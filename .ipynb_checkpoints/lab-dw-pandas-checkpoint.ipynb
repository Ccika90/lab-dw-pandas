{
 "cells": [
  {
   "cell_type": "markdown",
   "id": "25d7736c-ba17-4aff-b6bb-66eba20fbf4e",
   "metadata": {},
   "source": [
    "# Lab | Pandas"
   ]
  },
  {
   "cell_type": "markdown",
   "id": "d1973e9e-8be6-4039-b70e-d73ee0d94c99",
   "metadata": {},
   "source": [
    "In this lab, we will be working with the customer data from an insurance company, which can be found in the CSV file located at the following link: https://raw.githubusercontent.com/data-bootcamp-v4/data/main/file1.csv\n",
    "\n",
    "The data includes information such as customer ID, state, gender, education, income, and other variables that can be used to perform various analyses.\n",
    "\n",
    "Throughout the lab, we will be using the pandas library in Python to manipulate and analyze the data. Pandas is a powerful library that provides various data manipulation and analysis tools, including the ability to load and manipulate data from a variety of sources, including CSV files."
   ]
  },
  {
   "cell_type": "markdown",
   "id": "8045146f-f4f7-44d9-8cd9-130d6400c73a",
   "metadata": {},
   "source": [
    "### Data Description\n",
    "\n",
    "- Customer - Customer ID\n",
    "\n",
    "- ST - State where customers live\n",
    "\n",
    "- Gender - Gender of the customer\n",
    "\n",
    "- Education - Background education of customers \n",
    "\n",
    "- Customer Lifetime Value - Customer lifetime value(CLV) is the total revenue the client will derive from their entire relationship with a customer. In other words, is the predicted or calculated value of a customer over their entire duration as a policyholder with the insurance company. It is an estimation of the net profit that the insurance company expects to generate from a customer throughout their relationship with the company. Customer Lifetime Value takes into account factors such as the duration of the customer's policy, premium payments, claim history, renewal likelihood, and potential additional services or products the customer may purchase. It helps insurers assess the long-term profitability and value associated with retaining a particular customer.\n",
    "\n",
    "- Income - Customers income\n",
    "\n",
    "- Monthly Premium Auto - Amount of money the customer pays on a monthly basis as a premium for their auto insurance coverage. It represents the recurring cost that the insured person must pay to maintain their insurance policy and receive coverage for potential damages, accidents, or other covered events related to their vehicle.\n",
    "\n",
    "- Number of Open Complaints - Number of complaints the customer opened\n",
    "\n",
    "- Policy Type - There are three type of policies in car insurance (Corporate Auto, Personal Auto, and Special Auto)\n",
    "\n",
    "- Vehicle Class - Type of vehicle classes that customers have Two-Door Car, Four-Door Car SUV, Luxury SUV, Sports Car, and Luxury Car\n",
    "\n",
    "- Total Claim Amount - the sum of all claims made by the customer. It represents the total monetary value of all approved claims for incidents such as accidents, theft, vandalism, or other covered events.\n"
   ]
  },
  {
   "cell_type": "markdown",
   "id": "3a72419b-20fc-4905-817a-8c83abc59de6",
   "metadata": {},
   "source": [
    "External Resources: https://towardsdatascience.com/filtering-data-frames-in-pandas-b570b1f834b9"
   ]
  },
  {
   "cell_type": "markdown",
   "id": "8f8ece17-e919-4e23-96c0-c7c59778436a",
   "metadata": {},
   "source": [
    "## Challenge 1: Understanding the data\n",
    "\n",
    "In this challenge, you will use pandas to explore a given dataset. Your task is to gain a deep understanding of the data by analyzing its characteristics, dimensions, and statistical properties."
   ]
  },
  {
   "cell_type": "markdown",
   "id": "91437bd5-59a6-49c0-8150-ef0e6e6eb253",
   "metadata": {},
   "source": [
    "- Identify the dimensions of the dataset by determining the number of rows and columns it contains.\n",
    "- Determine the data types of each column and evaluate whether they are appropriate for the nature of the variable. You should also provide suggestions for fixing any incorrect data types.\n",
    "- Identify the number of unique values for each column and determine which columns appear to be categorical. You should also describe the unique values of each categorical column and the range of values for numerical columns, and give your insights.\n",
    "- Compute summary statistics such as mean, median, mode, standard deviation, and quartiles to understand the central tendency and distribution of the data for numerical columns. You should also provide your conclusions based on these summary statistics.\n",
    "- Compute summary statistics for categorical columns and providing your conclusions based on these statistics."
   ]
  },
  {
   "cell_type": "code",
   "execution_count": 45,
   "id": "dd4e8cd8-a6f6-486c-a5c4-1745b0c035f4",
   "metadata": {},
   "outputs": [],
   "source": [
    "# Your code here\n",
    "#Step 1\n",
    "import pandas as pd\n",
    "url = \"https://raw.githubusercontent.com/data-bootcamp-v4/data/main/file1.csv\"\n",
    "data = pd.read_csv(url)"
   ]
  },
  {
   "cell_type": "code",
   "execution_count": 46,
   "id": "9dc0b093-f182-428a-ac7d-8017af7a2129",
   "metadata": {},
   "outputs": [
    {
     "name": "stdout",
     "output_type": "stream",
     "text": [
      "Number of rows: 4008\n",
      "Number of columns: 11\n"
     ]
    }
   ],
   "source": [
    "#Step 2\n",
    "rows, columns = data.shape\n",
    "print(f\"Number of rows: {rows}\")\n",
    "print(f\"Number of columns: {columns}\")"
   ]
  },
  {
   "cell_type": "code",
   "execution_count": 47,
   "id": "ed373808-a5a3-4780-8eb4-73aea4faddc4",
   "metadata": {},
   "outputs": [
    {
     "name": "stdout",
     "output_type": "stream",
     "text": [
      "\n",
      "Data Types:\n",
      "Customer                      object\n",
      "ST                            object\n",
      "GENDER                        object\n",
      "Education                     object\n",
      "Customer Lifetime Value       object\n",
      "Income                       float64\n",
      "Monthly Premium Auto         float64\n",
      "Number of Open Complaints     object\n",
      "Policy Type                   object\n",
      "Vehicle Class                 object\n",
      "Total Claim Amount           float64\n",
      "dtype: object\n",
      "\n",
      "Converted 'Customer Lifetime Value' to numeric.\n"
     ]
    }
   ],
   "source": [
    "#Step 3\n",
    "print(\"\\nData Types:\")\n",
    "print(data.dtypes)\n",
    "if data['Customer Lifetime Value'].dtype == 'object':\n",
    "    data['Customer Lifetime Value'] = pd.to_numeric(data['Customer Lifetime Value'], errors='coerce')\n",
    "    print(\"\\nConverted 'Customer Lifetime Value' to numeric.\")"
   ]
  },
  {
   "cell_type": "code",
   "execution_count": 48,
   "id": "29e17918-5fc1-4457-84b7-627b5f30dfa8",
   "metadata": {},
   "outputs": [
    {
     "name": "stdout",
     "output_type": "stream",
     "text": [
      "\n",
      "Unique Values and Categorical Columns:\n",
      "Customer: 1071 unique values\n",
      "ST: 8 unique values\n",
      "  Unique values: ['Washington' 'Arizona' 'Nevada' 'California' 'Oregon' 'Cali' 'AZ' 'WA'\n",
      " nan]\n",
      "GENDER: 5 unique values\n",
      "  Unique values: [nan 'F' 'M' 'Femal' 'Male' 'female']\n",
      "Education: 6 unique values\n",
      "  Unique values: ['Master' 'Bachelor' 'High School or Below' 'College' 'Bachelors' 'Doctor'\n",
      " nan]\n",
      "Customer Lifetime Value: 0 unique values\n",
      "  Unique values: [nan]\n",
      "Income: 774 unique values\n",
      "Monthly Premium Auto: 132 unique values\n",
      "Number of Open Complaints: 6 unique values\n",
      "  Unique values: ['1/0/00' '1/2/00' '1/1/00' '1/3/00' '1/5/00' '1/4/00' nan]\n",
      "Policy Type: 3 unique values\n",
      "  Unique values: ['Personal Auto' 'Corporate Auto' 'Special Auto' nan]\n",
      "Vehicle Class: 6 unique values\n",
      "  Unique values: ['Four-Door Car' 'Two-Door Car' 'SUV' 'Luxury SUV' 'Sports Car'\n",
      " 'Luxury Car' nan]\n",
      "Total Claim Amount: 761 unique values\n"
     ]
    }
   ],
   "source": [
    "#Step 4\n",
    "print(\"\\nUnique Values and Categorical Columns:\")\n",
    "for column in data.columns:\n",
    "    unique_values = data[column].nunique()\n",
    "    print(f\"{column}: {unique_values} unique values\")\n",
    "    if unique_values < 20:  # Assuming columns with fewer unique values are categorical\n",
    "        print(f\"  Unique values: {data[column].unique()}\")"
   ]
  },
  {
   "cell_type": "code",
   "execution_count": 49,
   "id": "b10ab257-e530-4f66-978e-9eed69c7d512",
   "metadata": {},
   "outputs": [
    {
     "name": "stdout",
     "output_type": "stream",
     "text": [
      "\n",
      "Range of Values for Numerical Columns:\n",
      "Customer Lifetime Value: Min = nan, Max = nan\n",
      "Income: Min = 0.0, Max = 99960.0\n",
      "Monthly Premium Auto: Min = 61.0, Max = 35354.0\n",
      "Total Claim Amount: Min = 0.382107, Max = 2893.239678\n"
     ]
    }
   ],
   "source": [
    "#Step 5\n",
    "print(\"\\nRange of Values for Numerical Columns:\")\n",
    "numerical_columns = data.select_dtypes(include=['int64', 'float64']).columns\n",
    "for column in numerical_columns:\n",
    "    print(f\"{column}: Min = {data[column].min()}, Max = {data[column].max()}\")"
   ]
  },
  {
   "cell_type": "code",
   "execution_count": 50,
   "id": "50da7e6f-4d36-427b-b06a-35e86f92c2f9",
   "metadata": {},
   "outputs": [
    {
     "name": "stdout",
     "output_type": "stream",
     "text": [
      "Summary Statistics (Mean, Std, Min, Quartiles, Max):\n",
      "       Customer Lifetime Value        Income  Monthly Premium Auto  \\\n",
      "count                      0.0   1071.000000           1071.000000   \n",
      "mean                       NaN  39295.701214            193.234360   \n",
      "std                        NaN  30469.427060           1601.190369   \n",
      "min                        NaN      0.000000             61.000000   \n",
      "25%                        NaN  14072.000000             68.000000   \n",
      "50%                        NaN  36234.000000             83.000000   \n",
      "75%                        NaN  64631.000000            109.500000   \n",
      "max                        NaN  99960.000000          35354.000000   \n",
      "\n",
      "       Total Claim Amount  \n",
      "count         1071.000000  \n",
      "mean           404.986909  \n",
      "std            293.027260  \n",
      "min              0.382107  \n",
      "25%            202.157702  \n",
      "50%            354.729129  \n",
      "75%            532.800000  \n",
      "max           2893.239678  \n",
      "\n",
      "Median for each numerical column:\n",
      "Customer Lifetime Value             NaN\n",
      "Income                     36234.000000\n",
      "Monthly Premium Auto          83.000000\n",
      "Total Claim Amount           354.729129\n",
      "dtype: float64\n",
      "\n",
      "Mode for each numerical column:\n",
      "Customer Lifetime Value      NaN\n",
      "Income                       0.0\n",
      "Monthly Premium Auto        65.0\n",
      "Total Claim Amount         321.6\n",
      "Name: 0, dtype: float64\n",
      "\n",
      "Conclusions:\n",
      "Column: Customer Lifetime Value\n",
      "  - Mean: nan\n",
      "  - Median: nan\n",
      "  - Mode: nan\n",
      "  - Standard Deviation: nan\n",
      "  - 25th Percentile: nan\n",
      "  - 75th Percentile: nan\n",
      "  - Range: nan\n",
      "\n",
      "Column: Income\n",
      "  - Mean: 39295.70121381886\n",
      "  - Median: 36234.0\n",
      "  - Mode: 0.0\n",
      "  - Standard Deviation: 30469.42706040185\n",
      "  - 25th Percentile: 14072.0\n",
      "  - 75th Percentile: 64631.0\n",
      "  - Range: 99960.0\n",
      "\n",
      "Column: Monthly Premium Auto\n",
      "  - Mean: 193.234360410831\n",
      "  - Median: 83.0\n",
      "  - Mode: 65.0\n",
      "  - Standard Deviation: 1601.190368577621\n",
      "  - 25th Percentile: 68.0\n",
      "  - 75th Percentile: 109.5\n",
      "  - Range: 35293.0\n",
      "\n",
      "Column: Total Claim Amount\n",
      "  - Mean: 404.98690940896364\n",
      "  - Median: 354.729129\n",
      "  - Mode: 321.6\n",
      "  - Standard Deviation: 293.0272599264041\n",
      "  - 25th Percentile: 202.157702\n",
      "  - 75th Percentile: 532.8\n",
      "  - Range: 2892.857571\n",
      "\n"
     ]
    }
   ],
   "source": [
    "# Select numerical columns\n",
    "numerical_columns = data.select_dtypes(include=['float64', 'int64'])\n",
    "\n",
    "# Compute summary statistics\n",
    "summary_stats = numerical_columns.describe()  # Includes count, mean, std, min, 25%, 50%, 75%, max\n",
    "print(\"Summary Statistics (Mean, Std, Min, Quartiles, Max):\")\n",
    "print(summary_stats)\n",
    "\n",
    "# Compute median for each numerical column\n",
    "medians = numerical_columns.median()\n",
    "print(\"\\nMedian for each numerical column:\")\n",
    "print(medians)\n",
    "\n",
    "# Compute mode for each numerical column\n",
    "modes = numerical_columns.mode().iloc[0]  # Mode can have multiple values; take the first row\n",
    "print(\"\\nMode for each numerical column:\")\n",
    "print(modes)\n",
    "\n",
    "# Conclusions based on the summary statistics\n",
    "print(\"\\nConclusions:\")\n",
    "for column in numerical_columns.columns:\n",
    "    print(f\"Column: {column}\")\n",
    "    print(f\"  - Mean: {summary_stats.loc['mean', column]}\")\n",
    "    print(f\"  - Median: {medians[column]}\")\n",
    "    print(f\"  - Mode: {modes[column]}\")\n",
    "    print(f\"  - Standard Deviation: {summary_stats.loc['std', column]}\")\n",
    "    print(f\"  - 25th Percentile: {summary_stats.loc['25%', column]}\")\n",
    "    print(f\"  - 75th Percentile: {summary_stats.loc['75%', column]}\")\n",
    "    print(f\"  - Range: {summary_stats.loc['max', column] - summary_stats.loc['min', column]}\")\n",
    "    print()"
   ]
  },
  {
   "cell_type": "code",
   "execution_count": 51,
   "id": "504cf01c-c973-4f1f-ba56-65d4562f0ac6",
   "metadata": {},
   "outputs": [
    {
     "name": "stdout",
     "output_type": "stream",
     "text": [
      "\n",
      "Summary Statistics for Categorical Columns:\n",
      "\n",
      "Customer:\n",
      "Customer\n",
      "RB50392    1\n",
      "HJ15383    1\n",
      "AO74776    1\n",
      "HQ82233    1\n",
      "OL72737    1\n",
      "          ..\n",
      "RO26085    1\n",
      "ES57969    1\n",
      "JK55587    1\n",
      "RN97635    1\n",
      "MY31220    1\n",
      "Name: count, Length: 1071, dtype: int64\n",
      "\n",
      "ST:\n",
      "ST\n",
      "Oregon        320\n",
      "California    211\n",
      "Arizona       186\n",
      "Cali          120\n",
      "Nevada         98\n",
      "Washington     81\n",
      "WA             30\n",
      "AZ             25\n",
      "Name: count, dtype: int64\n",
      "\n",
      "GENDER:\n",
      "GENDER\n",
      "F         457\n",
      "M         413\n",
      "Male       39\n",
      "female     28\n",
      "Femal      17\n",
      "Name: count, dtype: int64\n",
      "\n",
      "Education:\n",
      "Education\n",
      "Bachelor                324\n",
      "College                 313\n",
      "High School or Below    296\n",
      "Master                   94\n",
      "Doctor                   37\n",
      "Bachelors                 7\n",
      "Name: count, dtype: int64\n",
      "\n",
      "Number of Open Complaints:\n",
      "Number of Open Complaints\n",
      "1/0/00    830\n",
      "1/1/00    138\n",
      "1/2/00     50\n",
      "1/3/00     34\n",
      "1/4/00     13\n",
      "1/5/00      6\n",
      "Name: count, dtype: int64\n",
      "\n",
      "Policy Type:\n",
      "Policy Type\n",
      "Personal Auto     780\n",
      "Corporate Auto    234\n",
      "Special Auto       57\n",
      "Name: count, dtype: int64\n",
      "\n",
      "Vehicle Class:\n",
      "Vehicle Class\n",
      "Four-Door Car    576\n",
      "Two-Door Car     205\n",
      "SUV              199\n",
      "Sports Car        57\n",
      "Luxury SUV        20\n",
      "Luxury Car        14\n",
      "Name: count, dtype: int64\n"
     ]
    }
   ],
   "source": [
    "#Step 6. Summary statistics for categorical columns\n",
    "print(\"\\nSummary Statistics for Categorical Columns:\")\n",
    "categorical_columns = data.select_dtypes(include=['object']).columns\n",
    "for column in categorical_columns:\n",
    "    print(f\"\\n{column}:\")\n",
    "    print(data[column].value_counts())"
   ]
  },
  {
   "cell_type": "markdown",
   "id": "4a703890-63db-4944-b7ab-95a4f8185120",
   "metadata": {},
   "source": [
    "## Challenge 2: analyzing the data"
   ]
  },
  {
   "cell_type": "markdown",
   "id": "0776a403-c56a-452f-ac33-5fd4fdb06fc7",
   "metadata": {},
   "source": [
    "### Exercise 1"
   ]
  },
  {
   "cell_type": "markdown",
   "id": "eedbc484-da4d-4f9c-9343-e1d44311a87e",
   "metadata": {},
   "source": [
    "The marketing team wants to know the top 5 less common customer locations. Create a pandas Series object that contains the customer locations and their frequencies, and then retrieve the top 5 less common locations in ascending order."
   ]
  },
  {
   "cell_type": "code",
   "execution_count": 55,
   "id": "2dca5073-4520-4f42-9390-4b92733284ed",
   "metadata": {},
   "outputs": [
    {
     "name": "stdout",
     "output_type": "stream",
     "text": [
      "Top 5 less common customer locations:\n",
      "ST\n",
      "AZ             25\n",
      "WA             30\n",
      "Washington     81\n",
      "Nevada         98\n",
      "Cali          120\n",
      "Name: count, dtype: int64\n"
     ]
    }
   ],
   "source": [
    "# Your code her\n",
    "# Create a Series object with customer locations and their frequencies\n",
    "location_counts = data['ST'].value_counts()\n",
    "\n",
    "# Retrieve the top 5 less common locations in ascending order\n",
    "top_5_less_common_locations = location_counts.nsmallest(5)\n",
    "print(\"Top 5 less common customer locations:\")\n",
    "print(top_5_less_common_locations)"
   ]
  },
  {
   "cell_type": "markdown",
   "id": "0ce80f43-4afa-43c7-a78a-c917444da4e0",
   "metadata": {},
   "source": [
    "### Exercise 2\n",
    "\n",
    "The sales team wants to know the total number of policies sold for each type of policy. Create a pandas Series object that contains the policy types and their total number of policies sold, and then retrieve the policy type with the highest number of policies sold."
   ]
  },
  {
   "cell_type": "markdown",
   "id": "a9f13997-1555-4f98-aca6-970fda1d2c3f",
   "metadata": {},
   "source": [
    "*Hint:*\n",
    "- *Using value_counts() method simplifies this analysis.*\n",
    "- *Futhermore, there is a method that returns the index of the maximum value in a column or row.*\n"
   ]
  },
  {
   "cell_type": "code",
   "execution_count": 58,
   "id": "bcfad6c1-9af2-4b0b-9aa9-0dc5c17473c0",
   "metadata": {},
   "outputs": [
    {
     "name": "stdout",
     "output_type": "stream",
     "text": [
      "\n",
      "Total number of policies sold for each type:\n",
      "Policy Type\n",
      "Personal Auto     780\n",
      "Corporate Auto    234\n",
      "Special Auto       57\n",
      "Name: count, dtype: int64\n",
      "\n",
      "Policy type with the highest number of policies sold: Personal Auto\n"
     ]
    }
   ],
   "source": [
    "# Your code here\n",
    "# Create a Series object with policy types and their total number of policies sold\n",
    "policy_counts = data['Policy Type'].value_counts()\n",
    "\n",
    "# Retrieve the policy type with the highest number of policies sold\n",
    "most_sold_policy = policy_counts.idxmax()\n",
    "print(\"\\nTotal number of policies sold for each type:\")\n",
    "print(policy_counts)\n",
    "print(f\"\\nPolicy type with the highest number of policies sold: {most_sold_policy}\")"
   ]
  },
  {
   "cell_type": "markdown",
   "id": "0b863fd3-bf91-4d5d-86eb-be29ed9f5b70",
   "metadata": {},
   "source": [
    "### Exercise 3\n",
    "\n",
    "The sales team wants to know if customers with Personal Auto have a lower income than those with Corporate Auto. How does the average income compare between the two policy types?"
   ]
  },
  {
   "cell_type": "markdown",
   "id": "b1386d75-2810-4aa1-93e0-9485aa12d552",
   "metadata": {},
   "source": [
    "- Use *loc* to create two dataframes: one containing only Personal Auto policies and one containing only Corporate Auto policies.\n",
    "- Calculate the average income for each policy.\n",
    "- Print the results."
   ]
  },
  {
   "cell_type": "code",
   "execution_count": 61,
   "id": "0c0563cf-6f8b-463d-a321-651a972f82e5",
   "metadata": {},
   "outputs": [
    {
     "name": "stdout",
     "output_type": "stream",
     "text": [
      "\n",
      "Average income comparison:\n",
      "Average income for Personal Auto: 38180.69871794872\n",
      "Average income for Corporate Auto: 41390.31196581197\n"
     ]
    }
   ],
   "source": [
    "# Your code here\n",
    "# Create dataframes for Personal Auto and Corporate Auto policies\n",
    "personal_auto = data.loc[data['Policy Type'] == 'Personal Auto']\n",
    "corporate_auto = data.loc[data['Policy Type'] == 'Corporate Auto']\n",
    "\n",
    "# Calculate the average income for each policy type\n",
    "avg_income_personal_auto = personal_auto['Income'].mean()\n",
    "avg_income_corporate_auto = corporate_auto['Income'].mean()\n",
    "\n",
    "print(\"\\nAverage income comparison:\")\n",
    "print(f\"Average income for Personal Auto: {avg_income_personal_auto}\")\n",
    "print(f\"Average income for Corporate Auto: {avg_income_corporate_auto}\")"
   ]
  },
  {
   "cell_type": "markdown",
   "id": "80b16c27-f4a5-4727-a229-1f88671cf4e2",
   "metadata": {},
   "source": [
    "### Bonus: Exercise 4\n"
   ]
  },
  {
   "cell_type": "markdown",
   "id": "ac584986-299b-475f-ac2e-928c16c3f512",
   "metadata": {},
   "source": [
    "Your goal is to identify customers with a high policy claim amount.\n",
    "\n",
    "Instructions:\n",
    "\n",
    "- Review again the statistics for total claim amount to gain an understanding of the data.\n",
    "- To identify potential areas for improving customer retention and profitability, we want to focus on customers with a high policy claim amount. Consider customers with a high policy claim amount to be those in the top 25% of the total claim amount. Create a pandas DataFrame object that contains information about customers with a policy claim amount greater than the 75th percentile.\n",
    "- Use DataFrame methods to calculate summary statistics about the high policy claim amount data. "
   ]
  },
  {
   "cell_type": "markdown",
   "id": "4e3af5f1-6023-4b05-9c01-d05392daa650",
   "metadata": {},
   "source": [
    "*Note: When analyzing data, we often want to focus on certain groups of values to gain insights. Percentiles are a useful tool to help us define these groups. A percentile is a measure that tells us what percentage of values in a dataset are below a certain value. For example, the 75th percentile represents the value below which 75% of the data falls. Similarly, the 25th percentile represents the value below which 25% of the data falls. When we talk about the top 25%, we are referring to the values that fall above the 75th percentile, which represent the top quarter of the data. On the other hand, when we talk about the bottom 25%, we are referring to the values that fall below the 25th percentile, which represent the bottom quarter of the data. By focusing on these groups, we can identify patterns and trends that may be useful for making decisions and taking action.*\n",
    "\n",
    "*Hint: look for a method that gives you the percentile or quantile 0.75 and 0.25 for a Pandas Series.*"
   ]
  },
  {
   "cell_type": "markdown",
   "id": "2d234634-50bd-41e0-88f7-d5ba684455d1",
   "metadata": {},
   "source": [
    "*Hint 2: check `Boolean selection according to the values of a single column` in https://towardsdatascience.com/filtering-data-frames-in-pandas-b570b1f834b9*"
   ]
  },
  {
   "cell_type": "code",
   "execution_count": 66,
   "id": "b731bca6-a760-4860-a27b-a33efa712ce0",
   "metadata": {},
   "outputs": [
    {
     "name": "stdout",
     "output_type": "stream",
     "text": [
      "Statistics for Total Claim Amount:\n",
      "count    1071.000000\n",
      "mean      404.986909\n",
      "std       293.027260\n",
      "min         0.382107\n",
      "25%       202.157702\n",
      "50%       354.729129\n",
      "75%       532.800000\n",
      "max      2893.239678\n",
      "Name: Total Claim Amount, dtype: float64\n",
      "\n",
      "Summary statistics for customers with high policy claim amounts:\n",
      "       Customer Lifetime Value        Income  Monthly Premium Auto  \\\n",
      "count                      0.0    264.000000            264.000000   \n",
      "mean                       NaN  23677.344697            165.193182   \n",
      "std                        NaN  27013.483721            623.930992   \n",
      "min                        NaN      0.000000             63.000000   \n",
      "25%                        NaN      0.000000             99.000000   \n",
      "50%                        NaN  18807.000000            114.000000   \n",
      "75%                        NaN  42423.750000            133.250000   \n",
      "max                        NaN  99316.000000          10202.000000   \n",
      "\n",
      "       Total Claim Amount  \n",
      "count          264.000000  \n",
      "mean           782.228263  \n",
      "std            292.751640  \n",
      "min            537.600000  \n",
      "25%            606.521741  \n",
      "50%            679.597985  \n",
      "75%            851.400000  \n",
      "max           2893.239678  \n"
     ]
    }
   ],
   "source": [
    "# Your code here\n",
    "\n",
    "# 1. Review statistics for Total Claim Amount\n",
    "total_claim_stats = data['Total Claim Amount'].describe()\n",
    "print(\"Statistics for Total Claim Amount:\")\n",
    "print(total_claim_stats)\n",
    "\n",
    "# 2. Identify customers with a high policy claim amount (top 25%)\n",
    "# Calculate the 75th percentile of Total Claim Amount\n",
    "claim_75th_percentile = data['Total Claim Amount'].quantile(0.75)\n",
    "\n",
    "# Filter customers with Total Claim Amount greater than the 75th percentile\n",
    "high_claim_customers = data[data['Total Claim Amount'] > claim_75th_percentile]\n",
    "\n",
    "# 3. Calculate summary statistics for high policy claim amount data\n",
    "high_claim_stats = high_claim_customers.describe()\n",
    "\n",
    "print(\"\\nSummary statistics for customers with high policy claim amounts:\")\n",
    "print(high_claim_stats)"
   ]
  }
 ],
 "metadata": {
  "kernelspec": {
   "display_name": "Python [conda env:base] *",
   "language": "python",
   "name": "conda-base-py"
  },
  "language_info": {
   "codemirror_mode": {
    "name": "ipython",
    "version": 3
   },
   "file_extension": ".py",
   "mimetype": "text/x-python",
   "name": "python",
   "nbconvert_exporter": "python",
   "pygments_lexer": "ipython3",
   "version": "3.12.7"
  }
 },
 "nbformat": 4,
 "nbformat_minor": 5
}
